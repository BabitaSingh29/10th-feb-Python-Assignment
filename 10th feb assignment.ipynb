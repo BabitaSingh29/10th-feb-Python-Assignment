{
 "cells": [
  {
   "cell_type": "markdown",
   "id": "9f6f68cd-ab87-4820-818a-7fa6b02a19bd",
   "metadata": {},
   "source": [
    "## Q1. Which function is used to open a file? What are the different modes of opening a file? Explain each mode of file opening."
   ]
  },
  {
   "cell_type": "markdown",
   "id": "d8e65a3b-0182-4322-86ec-5bb7ad193451",
   "metadata": {},
   "source": [
    "The open() function is used to open a file.\n",
    "\n",
    "The open() function accepts two arguments: the filename and the mode. The mode specifies the purpose of opening the file, and it determines whether the file is opened for reading, writing, or both.\n",
    "\n",
    "There are different modes available to open a file, including:\n",
    "\n",
    "r: Read mode (default). It is used to open the file for reading only. If the file doesn't exist, an error will occur.\n",
    "w: Write mode. It is used to open the file for writing only. If the file doesn't exist, a new file will be created. If the file already exists, its contents will be truncated.\n",
    "a: Append mode. It is used to open the file for appending data. If the file doesn't exist, a new file will be created. If the file already exists, the new data will be appended to the end of the file.\n",
    "x: Exclusive creation mode. It is used to open the file for exclusive creation. If the file already exists, an error will occur.\n",
    "b: Binary mode. It is used to open the file in binary mode, which is useful for non-text files, such as images, audio, and video.\n",
    "t: Text mode (default). It is used to open the file in text mode, which is useful for text files."
   ]
  },
  {
   "cell_type": "markdown",
   "id": "1b8762ec-34b8-402c-afcf-6c86ff0498eb",
   "metadata": {},
   "source": [
    "## Q2. Why close() function is used? Why is it important to close a file?"
   ]
  },
  {
   "cell_type": "markdown",
   "id": "07bad9ff-e21f-4e33-9fd4-b9e2083de122",
   "metadata": {},
   "source": [
    "The close() function in Python is used to close a file that has been opened using the open() function.\n",
    "\n",
    "It is important to close a file after you are done working with it because it releases the resources used by the file and makes those resources available to other processes or programs. If you don't close the file properly, it can cause memory leaks or file corruption, especially if you are working with large files or if your program runs for a long time.\n",
    "\n",
    "Closing a file also ensures that any changes you made to the file are saved properly. For example, if you were writing data to a file and you don't close it properly, the data you wrote may not be saved to the file, and you may end up losing your work."
   ]
  },
  {
   "cell_type": "markdown",
   "id": "f107d428-d577-4afa-82f6-1912f539e597",
   "metadata": {},
   "source": [
    "## Q3. Write a python program to create a text file. Write ‘I want to become a Data Scientist’ in that file. Then close the file. Open this file and read the content of the file."
   ]
  },
  {
   "cell_type": "code",
   "execution_count": 1,
   "id": "07c71af9-e062-4743-b2be-4752cfc3d63f",
   "metadata": {},
   "outputs": [
    {
     "name": "stdout",
     "output_type": "stream",
     "text": [
      "I want to become a Data Scientist\n"
     ]
    }
   ],
   "source": [
    "# Open the file in write mode\n",
    "file = open(\"my_file.txt\", \"w\")\n",
    "\n",
    "# Write a sentence to the file\n",
    "file.write(\"I want to become a Data Scientist\")\n",
    "\n",
    "# Close the file\n",
    "file.close()\n",
    "\n",
    "# Open the file in read mode\n",
    "file = open(\"my_file.txt\", \"r\")\n",
    "\n",
    "# Read the contents of the file\n",
    "contents = file.read()\n",
    "\n",
    "# Close the file\n",
    "file.close()\n",
    "\n",
    "# Print the contents of the file\n",
    "print(contents)"
   ]
  },
  {
   "cell_type": "markdown",
   "id": "fdac5179-e9a5-415e-882a-5e83a7acb8ae",
   "metadata": {},
   "source": [
    "## Q4. Explain the following with python code: read(), readline() and readlines()."
   ]
  },
  {
   "cell_type": "code",
   "execution_count": 4,
   "id": "6da09e49-a850-49a5-ac89-8da46930d256",
   "metadata": {},
   "outputs": [
    {
     "data": {
      "text/plain": [
       "'I want to become a Data Scientist'"
      ]
     },
     "execution_count": 4,
     "metadata": {},
     "output_type": "execute_result"
    }
   ],
   "source": [
    "# read() function wil simply return the entire text file .\n",
    "file1=open(\"my_file.txt\",\"r\")\n",
    "file1.read()\n"
   ]
  },
  {
   "cell_type": "code",
   "execution_count": 5,
   "id": "c8b14d01-652b-45ce-ba34-11feb09578dc",
   "metadata": {},
   "outputs": [
    {
     "data": {
      "text/plain": [
       "'ant to become a Data Scientist'"
      ]
     },
     "execution_count": 5,
     "metadata": {},
     "output_type": "execute_result"
    }
   ],
   "source": [
    "# readline() function allows which index we need to see the data \n",
    "file1.seek(3)\n",
    "file1.readline() # it will return in string format"
   ]
  },
  {
   "cell_type": "code",
   "execution_count": 6,
   "id": "6743c93b-f1c2-4556-8402-82acb67e0c82",
   "metadata": {},
   "outputs": [
    {
     "name": "stdout",
     "output_type": "stream",
     "text": [
      "['ant to become a Data Scientist']\n"
     ]
    }
   ],
   "source": [
    "# readlines() function will can take the data from specific index and return in a string of lsit form \n",
    "with open(\"my_file.txt\") as fx:\n",
    "    fx.seek(3)\n",
    "    print(fx.readlines())"
   ]
  },
  {
   "cell_type": "markdown",
   "id": "527824bf-b98c-44ec-9151-21f1c3788747",
   "metadata": {},
   "source": [
    "## Q5. Explain why with statement is used with open(). What is the advantage of using with statement and open() together?"
   ]
  },
  {
   "cell_type": "markdown",
   "id": "c3d9be50-06f6-4af0-a7a4-fa255ee3ce29",
   "metadata": {},
   "source": [
    "In Python, the with statement is used to create a temporary context where one or more resources (such as files or network connections) are acquired and then automatically released at the end of the block. The with statement can be used with the open() function to ensure that the file is automatically closed when the block of code is exited."
   ]
  },
  {
   "cell_type": "code",
   "execution_count": 7,
   "id": "0ab722e4-4ed8-4854-9d58-c43c22dac041",
   "metadata": {},
   "outputs": [],
   "source": [
    "with open('my_file.txt', 'r') as f:\n",
    "    contents = f.read()\n",
    "\n",
    "# `f` is automatically closed at the end of the `with` block"
   ]
  },
  {
   "cell_type": "markdown",
   "id": "5851f56e-5d5d-4dde-a65c-3b2c11789f4f",
   "metadata": {},
   "source": [
    "In this example, we use the with statement with the open() function to read the contents of a file named \"file.txt\" in read mode. The file object is assigned to the variable f, and the read() method is used to read its contents into the contents variable. Once the with block is exited, the file is automatically closed by the with statement."
   ]
  },
  {
   "cell_type": "markdown",
   "id": "14953c5c-9dc9-45dd-b0d9-86996f852b97",
   "metadata": {},
   "source": [
    "## Q6. Explain the write() and writelines() functions. Give a suitable example."
   ]
  },
  {
   "cell_type": "markdown",
   "id": "39d41662-5177-447e-81eb-87051a161840",
   "metadata": {},
   "source": [
    "The write() and writelines() functions are used to write data to a file.\n",
    "\n",
    "***write() function: This function is used to write a single string of data to a file. It takes a string as its argument and writes it to the file at the current file position. If the file does not exist, it is created. If the file already exists, its contents are overwritten. Here's an example:"
   ]
  },
  {
   "cell_type": "code",
   "execution_count": 8,
   "id": "9d017386-782e-4377-8e37-639d7d1aabe9",
   "metadata": {},
   "outputs": [],
   "source": [
    "# Open a file in write mode\n",
    "file = open(\"my_file.txt\", \"w\")\n",
    "\n",
    "# Write a string to the file\n",
    "file.write(\"I want to become a Data Scientist\")\n",
    "\n",
    "# Close the file\n",
    "file.close()"
   ]
  },
  {
   "cell_type": "markdown",
   "id": "ae658220-a2fe-46d2-92ac-d6ece27d2d32",
   "metadata": {},
   "source": [
    "***writelines() function: This function is used to write multiple strings of data to a file. It takes a list of strings as its argument and writes each string to the file at the current file position. If the file does not exist, it is created. If the file already exists, its contents are overwritten. Here's an example:"
   ]
  },
  {
   "cell_type": "code",
   "execution_count": 9,
   "id": "3e8376e0-bf8b-4368-94fe-b2a47fdcceff",
   "metadata": {},
   "outputs": [],
   "source": [
    "# Open a file in write mode\n",
    "file = open(\"my_file.txt\", \"w\")\n",
    "\n",
    "# Write multiple strings to the file\n",
    "lines = [\"I want to become a Data Scientist\", \"I am learning Python programming\"]\n",
    "file.writelines(lines)\n",
    "\n",
    "# Close the file\n",
    "file.close()"
   ]
  }
 ],
 "metadata": {
  "kernelspec": {
   "display_name": "Python 3 (ipykernel)",
   "language": "python",
   "name": "python3"
  },
  "language_info": {
   "codemirror_mode": {
    "name": "ipython",
    "version": 3
   },
   "file_extension": ".py",
   "mimetype": "text/x-python",
   "name": "python",
   "nbconvert_exporter": "python",
   "pygments_lexer": "ipython3",
   "version": "3.10.8"
  }
 },
 "nbformat": 4,
 "nbformat_minor": 5
}
